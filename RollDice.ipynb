{
 "cells": [
  {
   "cell_type": "markdown",
   "metadata": {},
   "source": [
    "# Create a Dice Roller"
   ]
  },
  {
   "cell_type": "markdown",
   "metadata": {},
   "source": [
    "## Creating the function"
   ]
  },
  {
   "cell_type": "code",
   "execution_count": 1,
   "metadata": {},
   "outputs": [],
   "source": [
    "#Import pertinent libraries\n",
    "from random import randint\n",
    "import statistics"
   ]
  },
  {
   "cell_type": "code",
   "execution_count": 2,
   "metadata": {},
   "outputs": [],
   "source": [
    "#Define the dice rolling function with two inputs.\n",
    "#n will be the number of sides for the dice you are rolling and x will be the number of dice you are rolling.\n",
    "rolls = []\n",
    "def roll_many(n, x):\n",
    "    for i in range(x):\n",
    "        roll = randint(1,n)\n",
    "        rolls.append(roll)\n",
    "        print(roll)"
   ]
  },
  {
   "cell_type": "code",
   "execution_count": 3,
   "metadata": {},
   "outputs": [],
   "source": [
    "def roll_dice(n):\n",
    "        roll = randint(1,n)\n",
    "        print(roll)"
   ]
  },
  {
   "cell_type": "code",
   "execution_count": 4,
   "metadata": {},
   "outputs": [
    {
     "name": "stdout",
     "output_type": "stream",
     "text": [
      "4\n"
     ]
    }
   ],
   "source": [
    "#Test the function\n",
    "roll_dice(20)"
   ]
  },
  {
   "cell_type": "markdown",
   "metadata": {},
   "source": [
    "### Statistics"
   ]
  },
  {
   "cell_type": "code",
   "execution_count": 5,
   "metadata": {},
   "outputs": [
    {
     "name": "stdout",
     "output_type": "stream",
     "text": [
      "2\n",
      "5\n",
      "6\n",
      "5\n"
     ]
    }
   ],
   "source": [
    "rolls = []\n",
    "roll_many(6,4)"
   ]
  },
  {
   "cell_type": "code",
   "execution_count": 6,
   "metadata": {},
   "outputs": [
    {
     "data": {
      "text/plain": [
       "4.5"
      ]
     },
     "execution_count": 6,
     "metadata": {},
     "output_type": "execute_result"
    }
   ],
   "source": [
    "#You can check the statistics of your rolls using the statistics library\n",
    "statistics.mean(rolls)"
   ]
  },
  {
   "cell_type": "code",
   "execution_count": 7,
   "metadata": {},
   "outputs": [
    {
     "data": {
      "text/plain": [
       "1.7320508075688772"
      ]
     },
     "execution_count": 7,
     "metadata": {},
     "output_type": "execute_result"
    }
   ],
   "source": [
    "statistics.stdev(rolls)"
   ]
  },
  {
   "cell_type": "markdown",
   "metadata": {},
   "source": [
    "## Creating a GUI for the function"
   ]
  },
  {
   "cell_type": "code",
   "execution_count": 8,
   "metadata": {},
   "outputs": [],
   "source": [
    "from tkinter import *"
   ]
  },
  {
   "cell_type": "code",
   "execution_count": 9,
   "metadata": {},
   "outputs": [],
   "source": [
    "# Create the window\n",
    "\n",
    "#The Tk() function sets up the application object\n",
    "window = Tk()\n",
    "\n",
    "#Set the window title\n",
    "window.title('Dice Roller')\n",
    "\n",
    "#Size and position of window: window.geometry(\"widthxheight+XPOS+YPOS\")\n",
    "window.geometry(\"500x300+10+20\")\n",
    "\n",
    "#Event listening loop\n",
    "window.mainloop()"
   ]
  },
  {
   "cell_type": "code",
   "execution_count": 10,
   "metadata": {},
   "outputs": [],
   "source": [
    "from tkinter import *\n",
    "class MyWindow:\n",
    "    def __init__(self, win):\n",
    "        self.lbl1=Label(win, text='# of Die Sides')\n",
    "        self.lbl2=Label(win, text='Roll Result')\n",
    "        self.lbl3=Label(win, text='Dice Rolling Simulator', font=(\"Helvetica\", 20))\n",
    "        self.t1=Entry()\n",
    "        self.t2=Entry()\n",
    "        self.btn1 = Button(win, text='Roll Dice')\n",
    "        self.lbl1.place(x=100, y=100)\n",
    "        self.t1.place(x=200, y=100)\n",
    "        self.b1=Button(win, text='Roll Dice', font=(\"Helvetica\", 16), command=self.roll)\n",
    "        self.b1.place(x=200, y=140)\n",
    "        self.b1.config(height=1, width=8)\n",
    "        self.lbl2.place(x=100, y=200)\n",
    "        self.t2.place(x=200, y=200)\n",
    "        self.lbl3.place(x=100, y=35)\n",
    "    def roll(self):\n",
    "        self.t2.delete(0, 'end')\n",
    "        n=int(self.t1.get())\n",
    "        result=randint(1,n)\n",
    "        self.t2.insert(END, str(result))\n",
    "\n",
    "\n",
    "window=Tk()\n",
    "mywin=MyWindow(window)\n",
    "window.title('Dice Roller')\n",
    "window.geometry(\"400x300+10+10\")\n",
    "window.mainloop()"
   ]
  }
 ],
 "metadata": {
  "kernelspec": {
   "display_name": "Python 3",
   "language": "python",
   "name": "python3"
  },
  "language_info": {
   "codemirror_mode": {
    "name": "ipython",
    "version": 3
   },
   "file_extension": ".py",
   "mimetype": "text/x-python",
   "name": "python",
   "nbconvert_exporter": "python",
   "pygments_lexer": "ipython3",
   "version": "3.8.3"
  }
 },
 "nbformat": 4,
 "nbformat_minor": 4
}
